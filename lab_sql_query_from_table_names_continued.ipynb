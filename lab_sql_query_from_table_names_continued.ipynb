{
  "cells": [
    {
      "cell_type": "markdown",
      "id": "7d930c89-4954-4e39-be5a-601c1dd89512",
      "metadata": {
        "id": "7d930c89-4954-4e39-be5a-601c1dd89512"
      },
      "source": [
        "# SQL query from table names - Continued"
      ]
    },
    {
      "cell_type": "code",
      "source": [
        "!pip install openAI"
      ],
      "metadata": {
        "colab": {
          "base_uri": "https://localhost:8080/"
        },
        "id": "Kipen-Wxopai",
        "outputId": "05ef743b-7388-4db6-fc9c-c97e4b0fc850"
      },
      "id": "Kipen-Wxopai",
      "execution_count": 1,
      "outputs": [
        {
          "output_type": "stream",
          "name": "stdout",
          "text": [
            "Collecting openAI\n",
            "  Downloading openai-1.35.0-py3-none-any.whl (326 kB)\n",
            "\u001b[2K     \u001b[90m━━━━━━━━━━━━━━━━━━━━━━━━━━━━━━━━━━━━━━━━\u001b[0m \u001b[32m326.0/326.0 kB\u001b[0m \u001b[31m3.6 MB/s\u001b[0m eta \u001b[36m0:00:00\u001b[0m\n",
            "\u001b[?25hRequirement already satisfied: anyio<5,>=3.5.0 in /usr/local/lib/python3.10/dist-packages (from openAI) (3.7.1)\n",
            "Requirement already satisfied: distro<2,>=1.7.0 in /usr/lib/python3/dist-packages (from openAI) (1.7.0)\n",
            "Collecting httpx<1,>=0.23.0 (from openAI)\n",
            "  Downloading httpx-0.27.0-py3-none-any.whl (75 kB)\n",
            "\u001b[2K     \u001b[90m━━━━━━━━━━━━━━━━━━━━━━━━━━━━━━━━━━━━━━━━\u001b[0m \u001b[32m75.6/75.6 kB\u001b[0m \u001b[31m5.6 MB/s\u001b[0m eta \u001b[36m0:00:00\u001b[0m\n",
            "\u001b[?25hRequirement already satisfied: pydantic<3,>=1.9.0 in /usr/local/lib/python3.10/dist-packages (from openAI) (2.7.3)\n",
            "Requirement already satisfied: sniffio in /usr/local/lib/python3.10/dist-packages (from openAI) (1.3.1)\n",
            "Requirement already satisfied: tqdm>4 in /usr/local/lib/python3.10/dist-packages (from openAI) (4.66.4)\n",
            "Requirement already satisfied: typing-extensions<5,>=4.7 in /usr/local/lib/python3.10/dist-packages (from openAI) (4.12.2)\n",
            "Requirement already satisfied: idna>=2.8 in /usr/local/lib/python3.10/dist-packages (from anyio<5,>=3.5.0->openAI) (3.7)\n",
            "Requirement already satisfied: exceptiongroup in /usr/local/lib/python3.10/dist-packages (from anyio<5,>=3.5.0->openAI) (1.2.1)\n",
            "Requirement already satisfied: certifi in /usr/local/lib/python3.10/dist-packages (from httpx<1,>=0.23.0->openAI) (2024.6.2)\n",
            "Collecting httpcore==1.* (from httpx<1,>=0.23.0->openAI)\n",
            "  Downloading httpcore-1.0.5-py3-none-any.whl (77 kB)\n",
            "\u001b[2K     \u001b[90m━━━━━━━━━━━━━━━━━━━━━━━━━━━━━━━━━━━━━━━━\u001b[0m \u001b[32m77.9/77.9 kB\u001b[0m \u001b[31m3.6 MB/s\u001b[0m eta \u001b[36m0:00:00\u001b[0m\n",
            "\u001b[?25hCollecting h11<0.15,>=0.13 (from httpcore==1.*->httpx<1,>=0.23.0->openAI)\n",
            "  Downloading h11-0.14.0-py3-none-any.whl (58 kB)\n",
            "\u001b[2K     \u001b[90m━━━━━━━━━━━━━━━━━━━━━━━━━━━━━━━━━━━━━━━━\u001b[0m \u001b[32m58.3/58.3 kB\u001b[0m \u001b[31m3.2 MB/s\u001b[0m eta \u001b[36m0:00:00\u001b[0m\n",
            "\u001b[?25hRequirement already satisfied: annotated-types>=0.4.0 in /usr/local/lib/python3.10/dist-packages (from pydantic<3,>=1.9.0->openAI) (0.7.0)\n",
            "Requirement already satisfied: pydantic-core==2.18.4 in /usr/local/lib/python3.10/dist-packages (from pydantic<3,>=1.9.0->openAI) (2.18.4)\n",
            "Installing collected packages: h11, httpcore, httpx, openAI\n",
            "Successfully installed h11-0.14.0 httpcore-1.0.5 httpx-0.27.0 openAI-1.35.0\n"
          ]
        }
      ]
    },
    {
      "cell_type": "code",
      "execution_count": 2,
      "id": "a03f026a",
      "metadata": {
        "id": "a03f026a"
      },
      "outputs": [],
      "source": [
        "from openai import OpenAI\n",
        "#import os\n",
        "#from dotenv import load_dotenv, find_dotenv\n",
        "#_ = load_dotenv(find_dotenv())\n",
        "from google.colab import userdata\n",
        "OPENAI_API_KEY  = userdata.get('OPENAI_API_KEY')"
      ]
    },
    {
      "cell_type": "markdown",
      "id": "53a05b80-88fd-42b2-ba89-763074ae74e9",
      "metadata": {
        "id": "53a05b80-88fd-42b2-ba89-763074ae74e9"
      },
      "source": [
        "## The old Prompt"
      ]
    },
    {
      "cell_type": "code",
      "execution_count": 3,
      "id": "922f8d24",
      "metadata": {
        "id": "922f8d24"
      },
      "outputs": [],
      "source": [
        "#The old prompt\n",
        "old_context = [ {'role':'system', 'content':\"\"\"\n",
        "you are a bot to assist in create SQL commands, all your answers should start with \\\n",
        "this is your SQL, and after that an SQL that can do what the user request. \\\n",
        "Your Database is composed by a SQL database with some tables. \\\n",
        "Try to maintain the SQL order simple.\n",
        "Put the SQL command in white letters with a black background, and just after \\\n",
        "a simple and concise text explaining how it works.\n",
        "If the user ask for something that can not be solved with an SQL Order \\\n",
        "just answer something nice and simple, maximum 10 words, asking him for something that \\\n",
        "can be solved with SQL.\n",
        "\"\"\"} ]\n",
        "\n",
        "old_context.append( {'role':'system', 'content':\"\"\"\n",
        "first table:\n",
        "{\n",
        "  \"tableName\": \"employees\",\n",
        "  \"fields\": [\n",
        "    {\n",
        "      \"nombre\": \"ID_usr\",\n",
        "      \"tipo\": \"int\"\n",
        "    },\n",
        "    {\n",
        "      \"nombre\": \"name\",\n",
        "      \"tipo\": \"varchar\"\n",
        "    }\n",
        "  ]\n",
        "}\n",
        "\"\"\"\n",
        "})\n",
        "\n",
        "old_context.append( {'role':'system', 'content':\"\"\"\n",
        "second table:\n",
        "{\n",
        "  \"tableName\": \"salary\",\n",
        "  \"fields\": [\n",
        "    {\n",
        "      \"nombre\": \"ID_usr\",\n",
        "      \"type\": \"int\"\n",
        "    },\n",
        "    {\n",
        "      \"name\": \"year\",\n",
        "      \"type\": \"date\"\n",
        "    },\n",
        "    {\n",
        "      \"name\": \"salary\",\n",
        "      \"type\": \"float\"\n",
        "    }\n",
        "  ]\n",
        "}\n",
        "\"\"\"\n",
        "})\n",
        "\n",
        "old_context.append( {'role':'system', 'content':\"\"\"\n",
        "third table:\n",
        "{\n",
        "  \"tablename\": \"studies\",\n",
        "  \"fields\": [\n",
        "    {\n",
        "      \"name\": \"ID\",\n",
        "      \"type\": \"int\"\n",
        "    },\n",
        "    {\n",
        "      \"name\": \"ID_usr\",\n",
        "      \"type\": \"int\"\n",
        "    },\n",
        "    {\n",
        "      \"name\": \"educational_level\",\n",
        "      \"type\": \"int\"\n",
        "    },\n",
        "    {\n",
        "      \"name\": \"Institution\",\n",
        "      \"type\": \"varchar\"\n",
        "    },\n",
        "    {\n",
        "      \"name\": \"Years\",\n",
        "      \"type\": \"date\"\n",
        "    }\n",
        "    {\n",
        "      \"name\": \"Speciality\",\n",
        "      \"type\": \"varchar\"\n",
        "    }\n",
        "  ]\n",
        "}\n",
        "\"\"\"\n",
        "})"
      ]
    },
    {
      "cell_type": "markdown",
      "id": "377acaae-7dd0-4d13-bc68-9e33741c231c",
      "metadata": {
        "id": "377acaae-7dd0-4d13-bc68-9e33741c231c"
      },
      "source": [
        "## New Prompt.\n",
        "We are going to improve it following the instructions of a Paper from the Ohaio University: [How to Prompt LLMs for Text-to-SQL: A Study in Zero-shot, Single-domain, and Cross-domain Settings](https://arxiv.org/abs/2305.11853). I recommend you read that paper.\n",
        "\n",
        "For each table, we will define the structure using the same syntax as in a SQL create table command, and add the sample rows of the content.\n",
        "\n",
        "Finally, at the end of the prompt, we'll include some example queries with the SQL that the model should generate. This technique is called Few-Shot Samples, in which we provide the prompt with some examples to assist it in generating the correct SQL.\n"
      ]
    },
    {
      "cell_type": "code",
      "execution_count": 4,
      "id": "5334f942",
      "metadata": {
        "id": "5334f942"
      },
      "outputs": [],
      "source": [
        "context = [ {'role':'system', 'content':\"\"\"\n",
        " CREATE SEVERAL (3+) TABLES HERE\n",
        " CREATE TABLE employees (\n",
        "    ID_usr INT,\n",
        "    name VARCHAR(255)\n",
        ");\n",
        "\n",
        "INSERT INTO employees VALUES\n",
        "    (1, 'John Doe'),\n",
        "    (2, 'Jane Smith'),\n",
        "    (3, 'Bob Johnson');\n",
        "\n",
        "CREATE TABLE salary (\n",
        "    ID_usr INT,\n",
        "    year DATE,\n",
        "    salary FLOAT\n",
        ");\n",
        "\n",
        "INSERT INTO salary VALUES\n",
        "    (1, '2022-01-01', 50000.00),\n",
        "    (1, '2023-01-01', 55000.00),\n",
        "    (2, '2022-01-01', 60000.00),\n",
        "    (2, '2023-01-01', 65000.00),\n",
        "    (3, '2022-01-01', 45000.00),\n",
        "    (3, '2023-01-01', 48000.00);\n",
        "\n",
        "CREATE TABLE studies (\n",
        "    ID INT,\n",
        "    ID_usr INT,\n",
        "    educational_level INT,\n",
        "    Institution VARCHAR(255),\n",
        "    Years DATE,\n",
        "    Speciality VARCHAR(255)\n",
        ");\n",
        "\n",
        "INSERT INTO studies VALUES\n",
        "    (1, 1, 2, 'University of California', '2018-09-01', 'Computer Science'),\n",
        "    (2, 2, 1, 'Harvard University', '2015-09-01', 'Business Administration'),\n",
        "    (3, 3, 3, 'Massachusetts Institute of Technology', '2010-09-01', 'Mechanical Engineering')\n",
        ";\n",
        "\"\"\"\n",
        "}\n",
        "]\n",
        "\n"
      ]
    },
    {
      "cell_type": "code",
      "execution_count": 5,
      "id": "330e69b0-3f5f-4bb2-8185-aedded2bb993",
      "metadata": {
        "id": "330e69b0-3f5f-4bb2-8185-aedded2bb993"
      },
      "outputs": [],
      "source": [
        "#FEW SHOT SAMPLES\n",
        "context.append( {'role':'system', 'content':\"\"\"\n",
        "-- query 1\n",
        "SELECT name, salary\n",
        "FROM employees\n",
        "INNER JOIN salary ON employees.ID_usr = salary.ID_usr\n",
        "WHERE salary.year = '2023-01-01'\n",
        "ORDER BY salary DESC\n",
        "LIMIT 3;\n",
        "\n",
        "-- query 2\n",
        "SELECT Institution, COUNT(*) AS num_students\n",
        "FROM studies\n",
        "GROUP BY Institution\n",
        "ORDER BY num_students DESC\n",
        "LIMIT 1;\n",
        "\n",
        "-- query 3\n",
        "SELECT e.name, s.Speciality\n",
        "FROM employees e\n",
        "JOIN studies s ON e.ID_usr = s.ID_usr\n",
        "WHERE s.educational_level = 2;\n",
        "\"\"\"\n",
        "})"
      ]
    },
    {
      "cell_type": "code",
      "execution_count": 6,
      "id": "b90f417a",
      "metadata": {
        "id": "b90f417a"
      },
      "outputs": [],
      "source": [
        "#Functio to call the model.\n",
        "def return_CCRMSQL(user_message, context):\n",
        "    client = OpenAI(\n",
        "    # This is the default and can be omitted\n",
        "    api_key=OPENAI_API_KEY,\n",
        ")\n",
        "\n",
        "    newcontext = context.copy()\n",
        "    newcontext.append({'role':'user', 'content':\"question: \" + user_message})\n",
        "\n",
        "    response = client.chat.completions.create(\n",
        "            model=\"gpt-3.5-turbo\",\n",
        "            messages=newcontext,\n",
        "            temperature=0,\n",
        "        )\n",
        "\n",
        "    return (response.choices[0].message.content)"
      ]
    },
    {
      "cell_type": "markdown",
      "id": "9e0a4c11-dfe1-46fe-ac2b-3ff825f9749c",
      "metadata": {
        "id": "9e0a4c11-dfe1-46fe-ac2b-3ff825f9749c"
      },
      "source": [
        "## NL2SQL Samples\n",
        "We're going to review some examples generated with the old prompt and others with the new prompt."
      ]
    },
    {
      "cell_type": "code",
      "execution_count": 7,
      "id": "59e8202c-ce34-487e-9037-c65a263423ed",
      "metadata": {
        "colab": {
          "base_uri": "https://localhost:8080/"
        },
        "id": "59e8202c-ce34-487e-9037-c65a263423ed",
        "outputId": "3d0aa9a6-c280-4ce7-93c3-d8467019fe99"
      },
      "outputs": [
        {
          "output_type": "stream",
          "name": "stdout",
          "text": [
            "Here are the top 3 highest-paid employees for the year 2023:\n",
            "\n",
            "| name        | salary   |\n",
            "|-------------|----------|\n",
            "| Jane Smith  | 65000.00 |\n",
            "| John Doe    | 55000.00 |\n",
            "| Bob Johnson | 48000.00 |\n"
          ]
        }
      ],
      "source": [
        "#new\n",
        "context_user = context.copy()\n",
        "print(return_CCRMSQL(\"\"\"Find the top 3 highest-paid employees\"\"\", context_user))"
      ]
    },
    {
      "cell_type": "code",
      "execution_count": 8,
      "id": "9c4766b1-48a9-456e-bc6c-4b6f41909aa4",
      "metadata": {
        "colab": {
          "base_uri": "https://localhost:8080/"
        },
        "id": "9c4766b1-48a9-456e-bc6c-4b6f41909aa4",
        "outputId": "1a8379d8-60d1-46b0-af27-6123b9d6cd03"
      },
      "outputs": [
        {
          "output_type": "stream",
          "name": "stdout",
          "text": [
            "This is your SQL:\n",
            "```sql\n",
            "SELECT e.name, s.salary\n",
            "FROM employees e\n",
            "JOIN salary s ON e.ID_usr = s.ID_usr\n",
            "ORDER BY s.salary DESC\n",
            "LIMIT 3;\n",
            "```\n",
            "\n",
            "This SQL query retrieves the names and salaries of the top 3 highest-paid employees by joining the \"employees\" and \"salary\" tables on the employee ID. It then sorts the results in descending order based on the salary and limits the output to the top 3 results.\n"
          ]
        }
      ],
      "source": [
        "#old\n",
        "old_context_user = old_context.copy()\n",
        "print(return_CCRMSQL(\"Find the top 3 highest-paid employees\", old_context_user))"
      ]
    },
    {
      "cell_type": "code",
      "execution_count": 9,
      "id": "38d8d370-0524-4a28-bd54-5e5cddb08e2c",
      "metadata": {
        "colab": {
          "base_uri": "https://localhost:8080/"
        },
        "id": "38d8d370-0524-4a28-bd54-5e5cddb08e2c",
        "outputId": "8fe99df5-872b-41cd-d866-0bb96b3f04b0"
      },
      "outputs": [
        {
          "output_type": "stream",
          "name": "stdout",
          "text": [
            "To answer your question, we need to first identify the departments based on the provided tables. Since there is no explicit department information in the tables, we can consider the \"educational_level\" from the \"studies\" table as a proxy for departments. We will assume that the educational levels correspond to different departments.\n",
            "\n",
            "Here is the query to find the departments (educational levels) with an average salary above $50,000:\n",
            "\n",
            "```sql\n",
            "SELECT s.educational_level AS department, AVG(salary) AS avg_salary\n",
            "FROM employees e\n",
            "JOIN salary sal ON e.ID_usr = sal.ID_usr\n",
            "JOIN studies s ON e.ID_usr = s.ID_usr\n",
            "GROUP BY s.educational_level\n",
            "HAVING AVG(salary) > 50000;\n",
            "```\n",
            "\n",
            "This query joins the \"employees\", \"salary\", and \"studies\" tables based on the user IDs and educational levels. It calculates the average salary for each department (educational level) and filters only those departments with an average salary above $50,000.\n"
          ]
        }
      ],
      "source": [
        "#new\n",
        "print(return_CCRMSQL(\"Find the departments with average salary above $50,000\", context_user))"
      ]
    },
    {
      "cell_type": "code",
      "execution_count": 10,
      "id": "5aa318d4-dd9f-41db-8ff4-c1d87220f766",
      "metadata": {
        "colab": {
          "base_uri": "https://localhost:8080/"
        },
        "id": "5aa318d4-dd9f-41db-8ff4-c1d87220f766",
        "outputId": "533ec77f-92ca-4396-e6ba-a66bd145abef"
      },
      "outputs": [
        {
          "output_type": "stream",
          "name": "stdout",
          "text": [
            "This is your SQL:\n",
            "```sql\n",
            "SELECT department, AVG(salary) AS avg_salary\n",
            "FROM departments\n",
            "GROUP BY department\n",
            "HAVING AVG(salary) > 50000;\n",
            "```\n",
            "\n",
            "This SQL query selects the departments from the \"departments\" table and calculates the average salary for each department. It then filters the results to only show departments with an average salary above $50,000.\n"
          ]
        }
      ],
      "source": [
        "#old\n",
        "print(return_CCRMSQL(\"Find the departments with average salary above $50,000\", old_context_user))"
      ]
    },
    {
      "cell_type": "markdown",
      "id": "0f31968e-74ad-4ae2-9537-b3d550b1be47",
      "metadata": {
        "id": "0f31968e-74ad-4ae2-9537-b3d550b1be47"
      },
      "source": [
        "# Exercise\n",
        " - Complete the prompts similar to what we did in class.\n",
        "     - Try at least 3 versions\n",
        "     - Be creative\n",
        " - Write a one page report summarizing your findings.\n",
        "     - Were there variations that didn't work well? i.e., where GPT either hallucinated or wrong.\n",
        "     - What did you learn?"
      ]
    },
    {
      "cell_type": "code",
      "source": [
        "#new\n",
        "print(return_CCRMSQL(\"What is the higher cost department\", context_user))"
      ],
      "metadata": {
        "colab": {
          "base_uri": "https://localhost:8080/"
        },
        "id": "ldu2oPz8yeXr",
        "outputId": "32dad968-38fa-4da9-cfe8-23b532ba62a8"
      },
      "id": "ldu2oPz8yeXr",
      "execution_count": 11,
      "outputs": [
        {
          "output_type": "stream",
          "name": "stdout",
          "text": [
            "To determine the department with the highest total salary cost, we can run the following SQL query:\n",
            "\n",
            "```sql\n",
            "SELECT Institution, SUM(salary) AS total_salary_cost\n",
            "FROM employees\n",
            "JOIN salary ON employees.ID_usr = salary.ID_usr\n",
            "JOIN studies ON employees.ID_usr = studies.ID_usr\n",
            "GROUP BY Institution\n",
            "ORDER BY total_salary_cost DESC\n",
            "LIMIT 1;\n",
            "```\n",
            "\n",
            "This query will calculate the total salary cost for each department by summing up the salaries of employees in that department, and then it will return the department with the highest total salary cost.\n"
          ]
        }
      ]
    },
    {
      "cell_type": "code",
      "source": [
        "#old\n",
        "print(return_CCRMSQL(\"Find the departments with average salary above $50,000\", old_context_user))"
      ],
      "metadata": {
        "colab": {
          "base_uri": "https://localhost:8080/"
        },
        "id": "NCFQuc3Jzps2",
        "outputId": "7a4bdf96-44b7-41c1-a133-e2c56e784ba7"
      },
      "id": "NCFQuc3Jzps2",
      "execution_count": 12,
      "outputs": [
        {
          "output_type": "stream",
          "name": "stdout",
          "text": [
            "This is your SQL:\n",
            "```sql\n",
            "SELECT department, AVG(salary) AS avg_salary\n",
            "FROM departments\n",
            "GROUP BY department\n",
            "HAVING AVG(salary) > 50000;\n",
            "```\n",
            "\n",
            "This SQL query selects the departments from the table \"departments\" and calculates the average salary for each department. It then filters the results to only show departments with an average salary above $50,000.\n"
          ]
        }
      ]
    },
    {
      "cell_type": "code",
      "source": [
        "print(return_CCRMSQL(\"What is the total number of books sold for each genre?\", context_user))"
      ],
      "metadata": {
        "colab": {
          "base_uri": "https://localhost:8080/"
        },
        "id": "L34jiWQAzqBy",
        "outputId": "f3ecd900-2ba5-4939-c21d-1ad863f87569"
      },
      "id": "L34jiWQAzqBy",
      "execution_count": 17,
      "outputs": [
        {
          "output_type": "stream",
          "name": "stdout",
          "text": [
            "Since the tables provided are related to employees, salary, and studies, they do not contain information about book genres or book sales. To calculate the total number of books sold for each genre, we would need a table that includes information about books, genres, and sales. If you have a different dataset or table that contains this information, please provide the schema and sample data for that table, and I can help you write a query to calculate the total number of books sold for each genre.\n"
          ]
        }
      ]
    },
    {
      "cell_type": "code",
      "source": [
        "print(return_CCRMSQL(\"What are the names of the top 3 customers by total orders placed?\", context_user))"
      ],
      "metadata": {
        "colab": {
          "base_uri": "https://localhost:8080/"
        },
        "id": "Y4vtopmkzqLu",
        "outputId": "96cb6798-245b-4d2e-ff92-92ec5153609a"
      },
      "id": "Y4vtopmkzqLu",
      "execution_count": 18,
      "outputs": [
        {
          "output_type": "stream",
          "name": "stdout",
          "text": [
            "Here are the SQL queries to answer your question:\n",
            "\n",
            "1. To find the names of the top 3 employees by their salary in the year 2023:\n",
            "```sql\n",
            "SELECT name, salary \n",
            "FROM employees\n",
            "INNER JOIN salary ON employees.ID_usr = salary.ID_usr\n",
            "WHERE salary.year = '2023-01-01'\n",
            "ORDER BY salary DESC\n",
            "LIMIT 3;\n",
            "```\n",
            "\n",
            "2. To find the institution with the most number of students:\n",
            "```sql\n",
            "SELECT Institution, COUNT(*) AS num_students\n",
            "FROM studies\n",
            "GROUP BY Institution\n",
            "ORDER BY num_students DESC\n",
            "LIMIT 1;\n",
            "```\n",
            "\n",
            "3. To find the names of employees who have an educational level of 2:\n",
            "```sql\n",
            "SELECT e.name, s.Speciality\n",
            "FROM employees e\n",
            "JOIN studies s ON e.ID_usr = s.ID_usr\n",
            "WHERE s.educational_level = 2;\n",
            "```\n",
            "\n",
            "You can run these queries in your database to get the desired results.\n"
          ]
        }
      ]
    }
  ],
  "metadata": {
    "colab": {
      "provenance": []
    },
    "kernelspec": {
      "display_name": "Python 3 (ipykernel)",
      "language": "python",
      "name": "python3"
    },
    "language_info": {
      "codemirror_mode": {
        "name": "ipython",
        "version": 3
      },
      "file_extension": ".py",
      "mimetype": "text/x-python",
      "name": "python",
      "nbconvert_exporter": "python",
      "pygments_lexer": "ipython3",
      "version": "3.11.8"
    }
  },
  "nbformat": 4,
  "nbformat_minor": 5
}